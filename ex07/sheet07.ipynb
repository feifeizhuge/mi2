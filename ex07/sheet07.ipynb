{
 "cells": [
  {
   "cell_type": "code",
   "execution_count": null,
   "metadata": {
    "collapsed": true
   },
   "outputs": [],
   "source": []
  },
  {
   "cell_type": "markdown",
   "metadata": {},
   "source": [
    "## 7.1 Negentropy is scale-invariant"
   ]
  },
  {
   "cell_type": "markdown",
   "metadata": {},
   "source": [
    "The covariance matrix of $x$: $\\Sigma = E[(x-E[x])(x-E[x])^{T}]$ \n",
    "\n",
    "The covariance matrix of $y$: $\\Sigma_y = E[(Ax-E[Ax])(Ax-E[Ax])^{T}]$ where $y = Ax$ \n",
    "\n",
    "A is invariant for $E[]$ Therefore\n",
    "\n",
    "\\begin{eqnarray}\n",
    "\\Sigma_y &=& E[(Ax-AE[x])(Ax-AE[x])^{T}] \\\\\n",
    " &=& E[A(x-E[x])(A(x-E[x]))^{T}] \\\\\n",
    " &=& A \\:E[(x-E[x])((x-E[x]))^{T}A^T] \\\\\n",
    "\\Sigma_y  &=& A \\Sigma A^T\n",
    "\\end{eqnarray}\n",
    "\n",
    "Then $H(y_{Gauss})=\\frac{1}{2} \\log{|\\det{\\Sigma_y}|}+ \\frac{1}{2}(1+\\log{2\\pi})$\n",
    "\n",
    "\\begin{eqnarray}\n",
    "H(y_{Gauss})&=&\\frac{1}{2} \\log{|\\det(\\Sigma_y)|}+ \\frac{1}{2}(1+\\log{2\\pi}) \\\\\n",
    "&=&\\frac{1}{2} \\log{|\\det( A \\Sigma A^T)|}+ \\frac{1}{2}(1+\\log{2\\pi}) \n",
    "\\end{eqnarray}\n",
    "\n",
    "$|\\det( A \\Sigma A^T)|=|\\det( A) \\det( \\Sigma ) \\det(A^T)| $ \n",
    "\n",
    "$=|\\det( A) \\det( \\Sigma ) \\det(A)| $ \n",
    "\n",
    "$=\\det( A)^2 |\\det( \\Sigma )| $ \n",
    "\n",
    "Therefore \n",
    "\n",
    "\\begin{eqnarray}\n",
    "& &\\frac{1}{2} \\log{|\\det( A \\Sigma A^T)|}+ \\frac{1}{2}(1+\\log{2\\pi}) \\\\\n",
    "&=& \\frac{1}{2} \\log{\\det( A)^2 |\\det( \\Sigma )|}+ \\frac{1}{2}(1+\\log{2\\pi}) \\\\\n",
    "&=& \\log{\\det( A)}+ \\frac{1}{2} \\log{|\\det( \\Sigma )|}+ \\frac{1}{2}(1+\\log{2\\pi}) \\\\\n",
    "H(y_{Gauss})&=& \\log{\\det( A)}+ H(x_{Gauss}))\n",
    "\\end{eqnarray}\n",
    "\n",
    "If we estimate a probability density is maltivariate gaussian\n",
    "\n",
    "\\begin{eqnarray}\n",
    "p(x) = \\frac{1}{(\\sqrt{2\\pi})^m \\sqrt{|\\det(\\Sigma)|}} \\exp(-\\frac{1}{2} (x-E[x])^T \\Sigma^{-1}(x-E[x]))\n",
    "\\end{eqnarray}\n",
    "\n",
    "Then \n",
    "\n",
    "\\begin{eqnarray}\n",
    "p(Ax) &=& \\frac{1}{(\\sqrt{2\\pi})^m \\sqrt{\\det( A)^2 |\\det( \\Sigma )|}} \\exp(-\\frac{1}{2} (Ax-E[Ax])^T (A \\Sigma A^T)^{-1}(Ax-E[Ax])) \\\\\n",
    "&=& \\frac{1}{\\det( A)} \\frac{1}{(\\sqrt{2\\pi})^m \\sqrt{|\\det( \\Sigma )|}} \\exp(-\\frac{1}{2} (Ax-E[Ax])^T (A \\Sigma A^T)^{-1}(Ax-E[Ax])) \\\\\n",
    "&=& \\frac{1}{\\det( A)} \\frac{1}{(\\sqrt{2\\pi})^m \\sqrt{|\\det( \\Sigma )|}} \\exp(-\\frac{1}{2} (x-E[x])^TA^T (A \\Sigma A^T)^{-1}A(x-E[x])) \\\\\n",
    "&=& \\frac{1}{\\det( A)} \\frac{1}{(\\sqrt{2\\pi})^m \\sqrt{|\\det( \\Sigma )|}} \\exp(-\\frac{1}{2} (x-E[x])^TA^T (A^{-T} \\Sigma^{-1} A^{-1})A(x-E[x])) \\\\\n",
    "&=& \\frac{1}{\\det( A)} \\frac{1}{(\\sqrt{2\\pi})^m \\sqrt{|\\det( \\Sigma )|}} \\exp(-\\frac{1}{2} (x-E[x])^T \\Sigma^{-1} (x-E[x])) \\\\\n",
    "p(Ax) &=& \\frac{1}{\\det( A)} p(x) \\\\\n",
    "\\end{eqnarray}\n",
    "\n",
    "We have the differential entropy:\n",
    "\n",
    "\\begin{eqnarray}\n",
    "H(x)= -\\int p(x)\\log{p(x)} dx \\\\\n",
    "\\end{eqnarray}\n",
    "\n",
    "\\begin{eqnarray}\n",
    "H(Ax)&=& -\\int \\frac{1}{\\det( A)} p(x) \\log{\\frac{1}{\\det( A)} p(x)} dx \\\\\n",
    "&=&  -\\frac{1}{\\det( A)} \\int p(x) \\log{\\frac{1}{\\det( A)} p(x)} dx \\\\\n",
    "&=&  -\\frac{1}{\\det( A)} \\int p(x)( \\log{p(x)}-\\log{\\det( A)}) dx \\\\\n",
    "&=&  -\\frac{1}{\\det( A)} \\int p(x) \\log{p(x)}- p(x)\\log{\\det( A)} dx \\\\\n",
    "&=&  -\\frac{1}{\\det( A)} \\int p(x) \\log{p(x)} dx+\\frac{1}{\\det( A)} \\int p(x)\\log{\\det( A)} dx \\\\\n",
    "&=&  - \\int p(x) \\log{p(x)} dx+\\log{\\det( A)} \\int p(x) dx \\\\\n",
    "\\end{eqnarray}\n",
    "\n",
    "$ \\int p(x) dx = 1$ Therefore\n",
    "\n",
    "\\begin{eqnarray}\n",
    "&=&  - \\int p(x) \\log{p(x)} dx+\\log{\\det( A)} \\\\\n",
    "H(Ax)&=& H(x) +\\log{\\det( A)}\n",
    "\\end{eqnarray}\n",
    "\n",
    "The negentropy is defined as\n",
    "\n",
    "\\begin{eqnarray}\n",
    "J(x) = H(x_{Gauss}) -H(x)\n",
    "\\end{eqnarray}\n",
    "\n",
    "Then:\n",
    "\n",
    "\\begin{eqnarray}\n",
    "J(Ax) &=& H(Ax_{Gauss}) -H(Ax) \\\\\n",
    "&=& \\log{\\det( A)}+ H(x_{Gauss}) - (H(x) +\\log{\\det( A)}) \\\\\n",
    "&=& H(x_{Gauss}) - H(x) = J(x)\n",
    "\\end{eqnarray}"
   ]
  },
  {
   "cell_type": "markdown",
   "metadata": {},
   "source": [
    "Therefore the negentropy is invariant w.r.t. invertible linear transformations.\n",
    "\n",
    "If $A=aI$ where $a \\in \\mathbb{R}$, $I$ is identical matrix $I \\in \\mathbb{R}^{n \\times n} $ it is analog that the negentropy is scale invariant."
   ]
  },
  {
   "cell_type": "code",
   "execution_count": 1,
   "metadata": {
    "collapsed": true
   },
   "outputs": [],
   "source": [
    "import numpy as np\n",
    "import numpy.testing as npt\n",
    "from scipy.linalg import expm\n",
    "import matplotlib.pyplot as plt\n",
    "import scipy.spatial, scipy.linalg\n",
    "from scipy.spatial.distance import pdist\n",
    "import scipy.sparse.linalg\n",
    "from scipy.linalg import eigh\n",
    "import zipfile,io\n",
    "import pandas as pd\n",
    "import zipfile\n",
    "import re\n",
    "import numpy as np\n",
    "import matplotlib.pyplot as plt\n",
    "from scipy import signal\n",
    "from sklearn.decomposition import FastICA, PCA\n",
    "%matplotlib inline\n"
   ]
  },
  {
   "cell_type": "markdown",
   "metadata": {},
   "source": [
    "## 7.2 fastICA vs. Infomax \n",
    "\n",
    "Apply fastICA to the two soundfiles data set (once again) of problem sheet 6 and compare runtime and robustness w.r.t. the mixing matrix A with the Infomax-based ICA-algorithm. Use the following setup for the latter algorithm: natural gradient, Bell-Sejnowski amplitude normalization, learning rate schedule \"0 = 0:01, \"t+1 = 0:9999\"t."
   ]
  },
  {
   "cell_type": "code",
   "execution_count": null,
   "metadata": {
    "collapsed": true
   },
   "outputs": [],
   "source": []
  }
 ],
 "metadata": {
  "kernelspec": {
   "display_name": "Python 3",
   "language": "python",
   "name": "python3"
  },
  "language_info": {
   "codemirror_mode": {
    "name": "ipython",
    "version": 3
   },
   "file_extension": ".py",
   "mimetype": "text/x-python",
   "name": "python",
   "nbconvert_exporter": "python",
   "pygments_lexer": "ipython3",
   "version": "3.5.2"
  }
 },
 "nbformat": 4,
 "nbformat_minor": 2
}
