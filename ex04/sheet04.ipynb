{
 "cells": [
  {
   "cell_type": "code",
   "execution_count": 22,
   "metadata": {
    "collapsed": true
   },
   "outputs": [],
   "source": [
    "import numpy as np\n",
    "import numpy.testing as npt\n",
    "from scipy.linalg import expm\n",
    "import matplotlib.pyplot as plt\n",
    "import scipy.spatial, scipy.linalg\n",
    "from scipy.spatial.distance import pdist\n",
    "import scipy.sparse.linalg\n",
    "import pandas as pd\n",
    "%matplotlib inline\n",
    "\n",
    "class kPCA():\n",
    "    def __init__(self, K):\n",
    "        # ...\n",
    "        self.K = K\n",
    "        self.n = len(K)\n",
    "        D, U = np.linalg.eigh(K)\n",
    "        #idx = np.argsort(-D)\n",
    "        Ut = U.T\n",
    "        self.U = Ut#[idx]\n",
    "        self.D = D#[idx]\n",
    "        \n",
    "\n"
   ]
  },
  {
   "cell_type": "markdown",
   "metadata": {},
   "source": [
    "## 4.1 Kernel PCA: Toy Data (10 points)\n",
    "\n",
    "(a) Create a toy dataset of 2-dimensional data points x(α) = (x( 1α), x( 2α)), α = 1,...,90. The points represent iid samples of 30 points from 3 different distributions with uncorrelated, normally distributed (sd=0.1) coordinate values differing only in their mean value. The first sample (α = 1,...,30) should be centered on hx(α)i1 = (−0.5,−0.2), the second (α = 31,...,60) on hx(α)i2 = (0, 0.6), and the third (α = 61,...,90) on hx(α)i3 = (0.5, 0)."
   ]
  },
  {
   "cell_type": "code",
   "execution_count": 30,
   "metadata": {
    "collapsed": false
   },
   "outputs": [
    {
     "data": {
      "text/plain": [
       "<matplotlib.collections.PathCollection at 0x7f960a7911d0>"
      ]
     },
     "execution_count": 30,
     "metadata": {},
     "output_type": "execute_result"
    },
    {
     "data": {
      "image/png": "[encoded data removed]",
      "text/plain": [
       "<matplotlib.figure.Figure at 0x7f960a60bcc0>"
      ]
     },
     "metadata": {},
     "output_type": "display_data"
    }
   ],
   "source": [
    "\n",
    "fst=np.random.randn(30,2)+np.array([-0.5,-0.2])\n",
    "snd=np.random.randn(30,2)+np.array([0.,0.6])\n",
    "thd=np.random.randn(30,2)+np.array([0.5,0.])\n",
    "training_data= np.append(np.append(fst,snd,0),thd,0)\n",
    "plt.scatter(training_data[:,0],training_data[:,1])"
   ]
  },
  {
   "cell_type": "markdown",
   "metadata": {},
   "source": [
    "b) Apply a Kernel PCA using the RBF kernel (see below) with a suitable parameter value\n",
    "for the width σ of the kernel and calculate the coefficients for the representation of the\n",
    "eigenvectors (PCs) in the space spanned by the transformed data points.\n",
    "\n",
    "RBF Kernel:\n",
    "\n",
    "$$ k(x^{(\\alpha)},x^{(\\beta)})) = \\exp\\left(-\\frac{||x^{(\\alpha)}-x^{(\\beta)}||^2}{2 \\sigma^2} \\right) $$"
   ]
  },
  {
   "cell_type": "code",
   "execution_count": 31,
   "metadata": {
    "collapsed": false
   },
   "outputs": [
    {
     "name": "stdout",
     "output_type": "stream",
     "text": [
      "[[  4.66573634e-06  -3.57077310e-06   9.20419747e-07 ...,  -9.68168811e-07\n",
      "   -3.53379543e-06   4.68766944e-06]\n",
      " [  8.10012223e-07   2.07182954e-05  -1.91234467e-06 ...,   2.26773226e-06\n",
      "    2.07037243e-05   6.92792272e-07]\n",
      " [  4.71821761e-09   9.58560445e-08  -1.56872608e-07 ...,  -2.88600782e-06\n",
      "   -4.75639444e-07  -1.31586951e-07]\n",
      " ..., \n",
      " [  4.74873169e-09   9.22524780e-08  -2.25931363e-07 ...,  -2.81828828e-06\n",
      "   -4.79284275e-07  -1.31555198e-07]\n",
      " [  4.18373424e-09   6.09403463e-08  -9.02954587e-08 ...,  -2.86833100e-06\n",
      "   -4.46406984e-07  -1.31120429e-07]\n",
      " [  4.59284272e-09   9.79625825e-08   3.49095897e-07 ...,  -2.43859819e-06\n",
      "   -4.78058951e-07  -1.31554985e-07]]\n"
     ]
    }
   ],
   "source": [
    "n = 90\n",
    "sigma = 1\n",
    "X1 = (training_data**2).sum(1) + np.zeros([n,1])\n",
    "D1 = X1 - 2*(training_data.dot(training_data.T)) + X1.T\n",
    "K = np.exp(D1/(2*sigma**2))\n",
    "# kernel centlies\n",
    "rowave = K.mean(0).reshape(1,n)\n",
    "colave = K.mean(1).reshape(n,1)\n",
    "matave = K.mean()*np.ones((n,n))\n",
    "K= K - rowave - colave + matave\n",
    "kpca = kPCA(K)\n",
    "kpca.U.shape\n",
    "# A is the the coefficients for the representation of the\n",
    "# eigenvectors (PCs) in the space spanned by the transformed data points.\n",
    "A =kpca.U.T\n",
    "normA =kpca.U/np.sqrt(np.abs(kpca.D)).reshape(n,1)\n",
    "normA = normA/np.sqrt(n)\n",
    "normA = normA.T\n",
    "print( normA)"
   ]
  },
  {
   "cell_type": "markdown",
   "metadata": {
    "collapsed": true
   },
   "source": [
    "(c) Visualize the first 8 PCs in the 2-dimensional input space in the following way: "
   ]
  },
  {
   "cell_type": "code",
   "execution_count": 32,
   "metadata": {
    "collapsed": false
   },
   "outputs": [
    {
     "name": "stdout",
     "output_type": "stream",
     "text": [
      "(90, 8)\n"
     ]
    }
   ],
   "source": [
    "# Projection onto first 8 eigen vectors\n",
    "U = np.dot(K,A[:,:8])\n",
    "normU = np.dot(K,normA[:,:8])\n",
    "print(normU.shape)"
   ]
  },
  {
   "cell_type": "code",
   "execution_count": 27,
   "metadata": {
    "collapsed": false
   },
   "outputs": [
    {
     "name": "stdout",
     "output_type": "stream",
     "text": [
      "(601, 601)\n",
      "1.5\n",
      "(361201, 2)\n"
     ]
    },
    {
     "ename": "NameError",
     "evalue": "name 'spanOnRBFDims' is not defined",
     "output_type": "error",
     "traceback": [
      "\u001b[0;31m---------------------------------------------------------------------------\u001b[0m",
      "\u001b[0;31mNameError\u001b[0m                                 Traceback (most recent call last)",
      "\u001b[0;32m<ipython-input-27-79d7b71cca3b>\u001b[0m in \u001b[0;36m<module>\u001b[0;34m()\u001b[0m\n\u001b[1;32m     16\u001b[0m \u001b[0;34m\u001b[0m\u001b[0m\n\u001b[1;32m     17\u001b[0m \u001b[0;34m\u001b[0m\u001b[0m\n\u001b[0;32m---> 18\u001b[0;31m \u001b[0mtest_data_rbf\u001b[0m \u001b[0;34m=\u001b[0m \u001b[0mlist\u001b[0m\u001b[0;34m(\u001b[0m\u001b[0mmap\u001b[0m\u001b[0;34m(\u001b[0m\u001b[0;32mlambda\u001b[0m \u001b[0mx\u001b[0m\u001b[0;34m:\u001b[0m \u001b[0mspanOnRBFDims\u001b[0m\u001b[0;34m(\u001b[0m\u001b[0mx\u001b[0m\u001b[0;34m,\u001b[0m \u001b[0mtraining_data\u001b[0m\u001b[0;34m)\u001b[0m\u001b[0;34m,\u001b[0m \u001b[0mtest_data\u001b[0m \u001b[0;34m)\u001b[0m\u001b[0;34m)\u001b[0m\u001b[0;34m\u001b[0m\u001b[0m\n\u001b[0m\u001b[1;32m     19\u001b[0m \u001b[0mtest_data_rbf\u001b[0m \u001b[0;34m=\u001b[0m \u001b[0mnp\u001b[0m\u001b[0;34m.\u001b[0m\u001b[0marray\u001b[0m\u001b[0;34m(\u001b[0m\u001b[0mtest_data_rbf\u001b[0m\u001b[0;34m)\u001b[0m\u001b[0;34m.\u001b[0m\u001b[0mreshape\u001b[0m\u001b[0;34m(\u001b[0m \u001b[0;34m(\u001b[0m\u001b[0mlen\u001b[0m\u001b[0;34m(\u001b[0m\u001b[0mtest_data\u001b[0m\u001b[0;34m)\u001b[0m\u001b[0;34m,\u001b[0m\u001b[0;36m90\u001b[0m\u001b[0;34m)\u001b[0m \u001b[0;34m)\u001b[0m\u001b[0;34m\u001b[0m\u001b[0m\n\u001b[1;32m     20\u001b[0m \u001b[0;34m\u001b[0m\u001b[0m\n",
      "\u001b[0;32m<ipython-input-27-79d7b71cca3b>\u001b[0m in \u001b[0;36m<lambda>\u001b[0;34m(x)\u001b[0m\n\u001b[1;32m     16\u001b[0m \u001b[0;34m\u001b[0m\u001b[0m\n\u001b[1;32m     17\u001b[0m \u001b[0;34m\u001b[0m\u001b[0m\n\u001b[0;32m---> 18\u001b[0;31m \u001b[0mtest_data_rbf\u001b[0m \u001b[0;34m=\u001b[0m \u001b[0mlist\u001b[0m\u001b[0;34m(\u001b[0m\u001b[0mmap\u001b[0m\u001b[0;34m(\u001b[0m\u001b[0;32mlambda\u001b[0m \u001b[0mx\u001b[0m\u001b[0;34m:\u001b[0m \u001b[0mspanOnRBFDims\u001b[0m\u001b[0;34m(\u001b[0m\u001b[0mx\u001b[0m\u001b[0;34m,\u001b[0m \u001b[0mtraining_data\u001b[0m\u001b[0;34m)\u001b[0m\u001b[0;34m,\u001b[0m \u001b[0mtest_data\u001b[0m \u001b[0;34m)\u001b[0m\u001b[0;34m)\u001b[0m\u001b[0;34m\u001b[0m\u001b[0m\n\u001b[0m\u001b[1;32m     19\u001b[0m \u001b[0mtest_data_rbf\u001b[0m \u001b[0;34m=\u001b[0m \u001b[0mnp\u001b[0m\u001b[0;34m.\u001b[0m\u001b[0marray\u001b[0m\u001b[0;34m(\u001b[0m\u001b[0mtest_data_rbf\u001b[0m\u001b[0;34m)\u001b[0m\u001b[0;34m.\u001b[0m\u001b[0mreshape\u001b[0m\u001b[0;34m(\u001b[0m \u001b[0;34m(\u001b[0m\u001b[0mlen\u001b[0m\u001b[0;34m(\u001b[0m\u001b[0mtest_data\u001b[0m\u001b[0;34m)\u001b[0m\u001b[0;34m,\u001b[0m\u001b[0;36m90\u001b[0m\u001b[0;34m)\u001b[0m \u001b[0;34m)\u001b[0m\u001b[0;34m\u001b[0m\u001b[0m\n\u001b[1;32m     20\u001b[0m \u001b[0;34m\u001b[0m\u001b[0m\n",
      "\u001b[0;31mNameError\u001b[0m: name 'spanOnRBFDims' is not defined"
     ]
    }
   ],
   "source": [
    "x = np.linspace(-4.,4,90)\n",
    "y = np.linspace(-4.,4,90)\n",
    "X, Y = np.meshgrid(x, y)\n",
    "\n",
    "grid_points = len(X)\n",
    "print(X.shape)\n",
    "print(np.max(Y))\n",
    "\n",
    "\n",
    "test_data = np.hstack([X.reshape((grid_points**2,1)),Y.reshape((grid_points**2,1))])\n",
    "print(test_data.shape)\n",
    "\n",
    "\n",
    "test_data_rbf = list(map(lambda x: spanOnRBFDims(x, training_data), test_data ))\n",
    "test_data_rbf = np.array(test_data_rbf).reshape( (len(test_data),90) )\n",
    "\n"
   ]
  },
  {
   "cell_type": "code",
   "execution_count": 28,
   "metadata": {
    "collapsed": false
   },
   "outputs": [
    {
     "ename": "ValueError",
     "evalue": "total size of new array must be unchanged",
     "output_type": "error",
     "traceback": [
      "\u001b[0;31m---------------------------------------------------------------------------\u001b[0m",
      "\u001b[0;31mValueError\u001b[0m                                Traceback (most recent call last)",
      "\u001b[0;32m<ipython-input-28-3f1f83bd0c30>\u001b[0m in \u001b[0;36m<module>\u001b[0;34m()\u001b[0m\n\u001b[1;32m      3\u001b[0m \u001b[0mplt\u001b[0m\u001b[0;34m.\u001b[0m\u001b[0mfigure\u001b[0m\u001b[0;34m(\u001b[0m\u001b[0mfigsize\u001b[0m\u001b[0;34m=\u001b[0m\u001b[0;34m(\u001b[0m\u001b[0;36m10\u001b[0m\u001b[0;34m,\u001b[0m\u001b[0;36m20\u001b[0m\u001b[0;34m)\u001b[0m\u001b[0;34m)\u001b[0m\u001b[0;34m\u001b[0m\u001b[0m\n\u001b[1;32m      4\u001b[0m \u001b[0;32mfor\u001b[0m \u001b[0mi\u001b[0m \u001b[0;32min\u001b[0m \u001b[0mrange\u001b[0m\u001b[0;34m(\u001b[0m\u001b[0;36m8\u001b[0m\u001b[0;34m)\u001b[0m\u001b[0;34m:\u001b[0m\u001b[0;34m\u001b[0m\u001b[0m\n\u001b[0;32m----> 5\u001b[0;31m     \u001b[0mZ\u001b[0m \u001b[0;34m=\u001b[0m \u001b[0mnormU\u001b[0m\u001b[0;34m[\u001b[0m\u001b[0;34m:\u001b[0m\u001b[0;34m,\u001b[0m\u001b[0mi\u001b[0m\u001b[0;34m]\u001b[0m\u001b[0;34m.\u001b[0m\u001b[0mreshape\u001b[0m\u001b[0;34m(\u001b[0m\u001b[0;34m(\u001b[0m\u001b[0mgrid_points\u001b[0m\u001b[0;34m,\u001b[0m\u001b[0mgrid_points\u001b[0m\u001b[0;34m)\u001b[0m\u001b[0;34m)\u001b[0m\u001b[0;34m\u001b[0m\u001b[0m\n\u001b[0m\u001b[1;32m      6\u001b[0m     \u001b[0mplt\u001b[0m\u001b[0;34m.\u001b[0m\u001b[0msubplot\u001b[0m\u001b[0;34m(\u001b[0m\u001b[0;36m4\u001b[0m\u001b[0;34m,\u001b[0m\u001b[0;36m2\u001b[0m\u001b[0;34m,\u001b[0m\u001b[0mi\u001b[0m\u001b[0;34m+\u001b[0m\u001b[0;36m1\u001b[0m\u001b[0;34m)\u001b[0m\u001b[0;34m\u001b[0m\u001b[0m\n\u001b[1;32m      7\u001b[0m \u001b[0;31m#     plt.imshow(Z, extent=[-grid_space, grid_space, -grid_space, grid_space])\u001b[0m\u001b[0;34m\u001b[0m\u001b[0;34m\u001b[0m\u001b[0m\n",
      "\u001b[0;31mValueError\u001b[0m: total size of new array must be unchanged"
     ]
    },
    {
     "data": {
      "text/plain": [
       "<matplotlib.figure.Figure at 0x7f960a5dbcf8>"
      ]
     },
     "metadata": {},
     "output_type": "display_data"
    }
   ],
   "source": [
    "\n",
    "\n",
    "plt.figure(figsize=(10,20))\n",
    "for i in range(8):\n",
    "    Z = normU[:,i].reshape((grid_points,grid_points))\n",
    "    plt.subplot(4,2,i+1)\n",
    "#     plt.imshow(Z, extent=[-grid_space, grid_space, -grid_space, grid_space])\n",
    "    ct = plt.contour(X,Y,Z)\n",
    "    plt.clabel(ct, inline=1, fontsize=5)\n",
    "    plt.colorbar()\n",
    "    plt.title(\"PC-%d\" % (i+1))\n",
    "    plt.scatter(training_data[:,0], training_data[:,1], color='grey', marker='+', alpha=0.8)\n",
    "\n"
   ]
  },
  {
   "cell_type": "code",
   "execution_count": null,
   "metadata": {
    "collapsed": true
   },
   "outputs": [],
   "source": []
  },
  {
   "cell_type": "code",
   "execution_count": null,
   "metadata": {
    "collapsed": true
   },
   "outputs": [],
   "source": []
  }
 ],
 "metadata": {
  "kernelspec": {
   "display_name": "Python 3",
   "language": "python",
   "name": "python3"
  },
  "language_info": {
   "codemirror_mode": {
    "name": "ipython",
    "version": 3
   },
   "file_extension": ".py",
   "mimetype": "text/x-python",
   "name": "python",
   "nbconvert_exporter": "python",
   "pygments_lexer": "ipython3",
   "version": "3.5.2"
  }
 },
 "nbformat": 4,
 "nbformat_minor": 2
}
