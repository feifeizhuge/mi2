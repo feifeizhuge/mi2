{
 "cells": [
  {
   "cell_type": "code",
   "execution_count": 1,
   "metadata": {
    "collapsed": true
   },
   "outputs": [],
   "source": [
    "import numpy as np\n",
    "import matplotlib.pyplot as plt\n",
    "from scipy.spatial.distance import pdist\n",
    "from sklearn.metrics.pairwise import pairwise_distances\n",
    "\n",
    "def gen_data(no_data, center_point, sd=0.1, dim=2):\n",
    "    cov = np.diag([sd]*dim)\n",
    "    return np.random.multivariate_normal(center_point, cov, no_data)\n",
    "\n",
    "centers = [(-0.5,-0.2),(0,0.6),(0.5,0)]\n",
    "training_data = []\n",
    "for i in range(3):\n",
    "    new_data = gen_data(30, centers[i] )\n",
    "    training_data.append(new_data)\n",
    "training_data = np.concatenate(training_data)\n",
    "\n"
   ]
  },
  {
   "cell_type": "code",
   "execution_count": 2,
   "metadata": {
    "collapsed": false
   },
   "outputs": [
    {
     "data": {
      "text/plain": [
       "(90, 2)"
      ]
     },
     "execution_count": 2,
     "metadata": {},
     "output_type": "execute_result"
    }
   ],
   "source": [
    "training_data.shape"
   ]
  },
  {
   "cell_type": "code",
   "execution_count": 3,
   "metadata": {
    "collapsed": false
   },
   "outputs": [
    {
     "data": {
      "text/plain": [
       "<matplotlib.collections.PathCollection at 0x7f5dfab2c518>"
      ]
     },
     "execution_count": 3,
     "metadata": {},
     "output_type": "execute_result"
    }
   ],
   "source": [
    "plt.scatter(training_data[:,0], training_data[:,1])"
   ]
  },
  {
   "cell_type": "code",
   "execution_count": 4,
   "metadata": {
    "collapsed": false
   },
   "outputs": [
    {
     "name": "stdout",
     "output_type": "stream",
     "text": [
      "(90, 90)\n"
     ]
    }
   ],
   "source": [
    "sd = 0.1\n",
    "distance = pairwise_distances(training_data)\n",
    "def computeRBF(data):\n",
    "    return np.exp(-data/(2*sd**2))\n",
    "\n",
    "training_rbf = computeRBF(distance) # now data span on 90 dimensions\n",
    "\n",
    "print(training_rbf.shape)\n",
    "\n"
   ]
  },
  {
   "cell_type": "code",
   "execution_count": 5,
   "metadata": {
    "collapsed": true
   },
   "outputs": [],
   "source": [
    "def centerize( df ):\n",
    "    mean = np.mean( df, axis = 0 )\n",
    "    centered = df - mean \n",
    "    return (centered, mean)\n",
    "\n",
    "class PCA:\n",
    "    def __init__(self, X):\n",
    "        # X's shape (items,dimensions)\n",
    "        (centered, self.means) = centerize(X)\n",
    "        cov = np.cov( centered.T )\n",
    "\n",
    "        (eig_values, eig_vectors) = np.linalg.eig(cov)\n",
    "\n",
    "        eig_idx = np.argsort(-eig_values)\n",
    "        (self.eig_values, self.eig_vectors) = (eig_values[eig_idx], eig_vectors[:,eig_idx])\n",
    "        \n",
    "    def project(self, X):\n",
    "        # X's shape (items,dimensions)\n",
    "        X = X - self.means\n",
    "        return np.dot(X, self.eig_vectors)\n",
    "    \n",
    "    def reconstruct(self, X, eig_vectors_idx):\n",
    "        res = np.dot( X, self.eig_vectors[:, eig_vectors_idx].T )\n",
    "        res = res.T + self.means.reshape(len(self.means),1)\n",
    "        return res.T"
   ]
  },
  {
   "cell_type": "code",
   "execution_count": 6,
   "metadata": {
    "collapsed": false
   },
   "outputs": [
    {
     "data": {
      "text/plain": [
       "array([ 0.01722086,  0.01634792,  0.0147582 ,  0.01346044,  0.01334   ])"
      ]
     },
     "execution_count": 6,
     "metadata": {},
     "output_type": "execute_result"
    }
   ],
   "source": [
    "myPCA = PCA(training_rbf)\n",
    "myPCA.eig_values[:5]\n",
    "\n"
   ]
  },
  {
   "cell_type": "code",
   "execution_count": 7,
   "metadata": {
    "collapsed": false
   },
   "outputs": [
    {
     "data": {
      "text/plain": [
       "(90,)"
      ]
     },
     "execution_count": 7,
     "metadata": {},
     "output_type": "execute_result"
    }
   ],
   "source": [
    "myPCA.eig_vectors[0].shape"
   ]
  },
  {
   "cell_type": "code",
   "execution_count": 8,
   "metadata": {
    "collapsed": false
   },
   "outputs": [
    {
     "name": "stdout",
     "output_type": "stream",
     "text": [
      "(601, 601)\n",
      "1.5\n",
      "(361201, 2)\n"
     ]
    }
   ],
   "source": [
    "\n",
    "\n",
    "grid_space = 1.5\n",
    "delta = 0.005\n",
    "\n",
    "x = np.arange(-grid_space, grid_space + delta, delta)\n",
    "y = np.arange(-grid_space, grid_space + delta, delta)\n",
    "X, Y = np.meshgrid(x, y)\n",
    "\n",
    "grid_points = len(X)\n",
    "print(X.shape)\n",
    "print(np.max(Y))\n",
    "\n",
    "test_data = np.hstack([X.reshape((grid_points**2,1)),Y.reshape((grid_points**2,1))])\n",
    "print(test_data.shape)"
   ]
  },
  {
   "cell_type": "code",
   "execution_count": 11,
   "metadata": {
    "collapsed": false
   },
   "outputs": [
    {
     "name": "stdout",
     "output_type": "stream",
     "text": [
      "[[-1.5   -1.495 -1.49  ...,  1.49   1.495  1.5  ]\n",
      " [-1.5   -1.495 -1.49  ...,  1.49   1.495  1.5  ]\n",
      " [-1.5   -1.495 -1.49  ...,  1.49   1.495  1.5  ]\n",
      " ..., \n",
      " [-1.5   -1.495 -1.49  ...,  1.49   1.495  1.5  ]\n",
      " [-1.5   -1.495 -1.49  ...,  1.49   1.495  1.5  ]\n",
      " [-1.5   -1.495 -1.49  ...,  1.49   1.495  1.5  ]]\n"
     ]
    }
   ],
   "source": [
    "print(X)\n",
    "print(Y)"
   ]
  },
  {
   "cell_type": "code",
   "execution_count": 9,
   "metadata": {
    "collapsed": false
   },
   "outputs": [
    {
     "ename": "NameError",
     "evalue": "name 'spanOnRBFDims' is not defined",
     "output_type": "error",
     "traceback": [
      "\u001b[0;31m---------------------------------------------------------------------------\u001b[0m",
      "\u001b[0;31mNameError\u001b[0m                                 Traceback (most recent call last)",
      "\u001b[0;32m<ipython-input-9-c3bd49beddae>\u001b[0m in \u001b[0;36m<module>\u001b[0;34m()\u001b[0m\n\u001b[0;32m----> 1\u001b[0;31m \u001b[0mtest_data_rbf\u001b[0m \u001b[0;34m=\u001b[0m \u001b[0mlist\u001b[0m\u001b[0;34m(\u001b[0m\u001b[0mmap\u001b[0m\u001b[0;34m(\u001b[0m\u001b[0;32mlambda\u001b[0m \u001b[0mx\u001b[0m\u001b[0;34m:\u001b[0m \u001b[0mspanOnRBFDims\u001b[0m\u001b[0;34m(\u001b[0m\u001b[0mx\u001b[0m\u001b[0;34m,\u001b[0m \u001b[0mtraining_data\u001b[0m\u001b[0;34m)\u001b[0m\u001b[0;34m,\u001b[0m \u001b[0mtest_data\u001b[0m \u001b[0;34m)\u001b[0m\u001b[0;34m)\u001b[0m\u001b[0;34m\u001b[0m\u001b[0m\n\u001b[0m\u001b[1;32m      2\u001b[0m \u001b[0mtest_data_rbf\u001b[0m \u001b[0;34m=\u001b[0m \u001b[0mnp\u001b[0m\u001b[0;34m.\u001b[0m\u001b[0marray\u001b[0m\u001b[0;34m(\u001b[0m\u001b[0mtest_data_rbf\u001b[0m\u001b[0;34m)\u001b[0m\u001b[0;34m.\u001b[0m\u001b[0mreshape\u001b[0m\u001b[0;34m(\u001b[0m \u001b[0;34m(\u001b[0m\u001b[0mlen\u001b[0m\u001b[0;34m(\u001b[0m\u001b[0mtest_data\u001b[0m\u001b[0;34m)\u001b[0m\u001b[0;34m,\u001b[0m\u001b[0;36m90\u001b[0m\u001b[0;34m)\u001b[0m \u001b[0;34m)\u001b[0m\u001b[0;34m\u001b[0m\u001b[0m\n",
      "\u001b[0;32m<ipython-input-9-c3bd49beddae>\u001b[0m in \u001b[0;36m<lambda>\u001b[0;34m(x)\u001b[0m\n\u001b[0;32m----> 1\u001b[0;31m \u001b[0mtest_data_rbf\u001b[0m \u001b[0;34m=\u001b[0m \u001b[0mlist\u001b[0m\u001b[0;34m(\u001b[0m\u001b[0mmap\u001b[0m\u001b[0;34m(\u001b[0m\u001b[0;32mlambda\u001b[0m \u001b[0mx\u001b[0m\u001b[0;34m:\u001b[0m \u001b[0mspanOnRBFDims\u001b[0m\u001b[0;34m(\u001b[0m\u001b[0mx\u001b[0m\u001b[0;34m,\u001b[0m \u001b[0mtraining_data\u001b[0m\u001b[0;34m)\u001b[0m\u001b[0;34m,\u001b[0m \u001b[0mtest_data\u001b[0m \u001b[0;34m)\u001b[0m\u001b[0;34m)\u001b[0m\u001b[0;34m\u001b[0m\u001b[0m\n\u001b[0m\u001b[1;32m      2\u001b[0m \u001b[0mtest_data_rbf\u001b[0m \u001b[0;34m=\u001b[0m \u001b[0mnp\u001b[0m\u001b[0;34m.\u001b[0m\u001b[0marray\u001b[0m\u001b[0;34m(\u001b[0m\u001b[0mtest_data_rbf\u001b[0m\u001b[0;34m)\u001b[0m\u001b[0;34m.\u001b[0m\u001b[0mreshape\u001b[0m\u001b[0;34m(\u001b[0m \u001b[0;34m(\u001b[0m\u001b[0mlen\u001b[0m\u001b[0;34m(\u001b[0m\u001b[0mtest_data\u001b[0m\u001b[0;34m)\u001b[0m\u001b[0;34m,\u001b[0m\u001b[0;36m90\u001b[0m\u001b[0;34m)\u001b[0m \u001b[0;34m)\u001b[0m\u001b[0;34m\u001b[0m\u001b[0m\n",
      "\u001b[0;31mNameError\u001b[0m: name 'spanOnRBFDims' is not defined"
     ]
    }
   ],
   "source": [
    "test_data_rbf = list(map(lambda x: spanOnRBFDims(x, training_data), test_data ))\n",
    "test_data_rbf = np.array(test_data_rbf).reshape( (len(test_data),90) )"
   ]
  },
  {
   "cell_type": "code",
   "execution_count": null,
   "metadata": {
    "collapsed": true
   },
   "outputs": [],
   "source": []
  }
 ],
 "metadata": {
  "kernelspec": {
   "display_name": "Python 3",
   "language": "python",
   "name": "python3"
  },
  "language_info": {
   "codemirror_mode": {
    "name": "ipython",
    "version": 3
   },
   "file_extension": ".py",
   "mimetype": "text/x-python",
   "name": "python",
   "nbconvert_exporter": "python",
   "pygments_lexer": "ipython3",
   "version": "3.5.2"
  }
 },
 "nbformat": 4,
 "nbformat_minor": 2
}
