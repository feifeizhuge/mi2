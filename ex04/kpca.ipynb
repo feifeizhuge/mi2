{
 "cells": [
  {
   "cell_type": "code",
   "execution_count": 1,
   "metadata": {
    "collapsed": false
   },
   "outputs": [],
   "source": [
    "import numpy as np\n",
    "import matplotlib.pyplot as plt\n",
    "from scipy.spatial.distance import pdist\n",
    "from sklearn.metrics.pairwise import pairwise_distances\n",
    "import numpy as np\n",
    "import numpy.testing as npt\n",
    "from scipy.linalg import expm\n",
    "import matplotlib.pyplot as plt\n",
    "import scipy.spatial, scipy.linalg\n",
    "from scipy.spatial.distance import pdist\n",
    "import scipy.sparse.linalg\n",
    "import pandas as pd\n",
    "%matplotlib inline\n",
    "\n",
    "def kcenterize(K):\n",
    "    rowave = K.mean(0).reshape(1,n)\n",
    "    colave = K.mean(1).reshape(n,1)\n",
    "    matave = K.mean()*np.ones((n,n))\n",
    "    K= K - rowave - colave + matave\n",
    "    return K\n",
    "\n",
    "def normalize(U,D):\n",
    "    n=len(U[0])\n",
    "    normA =U/np.sqrt(np.abs(D)).reshape(1,n)\n",
    "    normA = normA/np.sqrt(n)\n",
    "    return normA\n",
    "\n",
    "class kPCA:\n",
    "    def __init__(self, K):\n",
    "        # X's shape (items,dimensions)\n",
    "        centered = kcenterize(K)\n",
    "\n",
    "        (eig_values, eig_vectors) = np.linalg.eigh(centered)\n",
    "        eig_vectors = normalize(eig_vectors,eig_values)\n",
    "        (self.eig_values, self.eig_vectors) = (eig_values, eig_vectors)\n",
    "        \n",
    "    def project(self, X):\n",
    "        # X's shape (items,dimensions)\n",
    "        return np.dot(X, self.eig_vectors)\n",
    "    "
   ]
  }
 ],
 "metadata": {
  "kernelspec": {
   "display_name": "Python 3",
   "language": "python",
   "name": "python3"
  },
  "language_info": {
   "codemirror_mode": {
    "name": "ipython",
    "version": 3
   },
   "file_extension": ".py",
   "mimetype": "text/x-python",
   "name": "python",
   "nbconvert_exporter": "python",
   "pygments_lexer": "ipython3",
   "version": "3.5.2"
  }
 },
 "nbformat": 4,
 "nbformat_minor": 1
}
