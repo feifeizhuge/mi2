{
 "cells": [
  {
   "cell_type": "code",
   "execution_count": 40,
   "metadata": {
    "collapsed": true
   },
   "outputs": [],
   "source": [
    "import numpy as np\n",
    "import numpy.testing as npt\n",
    "from scipy.linalg import expm\n",
    "import matplotlib.pyplot as plt\n",
    "import scipy.spatial, scipy.linalg\n",
    "from scipy.spatial.distance import pdist\n",
    "import scipy.sparse.linalg\n",
    "from scipy.linalg import eigh\n",
    "import zipfile,io\n",
    "import pandas as pd\n",
    "import zipfile\n",
    "import re\n",
    "import time\n",
    "import numpy as np\n",
    "import matplotlib.pyplot as plt\n",
    "import time\n",
    "import itertools as it\n",
    "%matplotlib inline"
   ]
  },
  {
   "cell_type": "markdown",
   "metadata": {},
   "source": [
    "# K-means Clustering"
   ]
  },
  {
   "cell_type": "markdown",
   "metadata": {},
   "source": [
    "In this problem set we will implement and apply the standard (batch) K-means algorithm, the online version, and the “soft” clustering procedures. The file cluster.dat contains a data set of p = 500 (2-dimensional) observations generated from four different Gaussians with four different means."
   ]
  },
  {
   "cell_type": "markdown",
   "metadata": {},
   "source": [
    "## 9.1 K-means Clustering"
   ]
  },
  {
   "cell_type": "markdown",
   "metadata": {},
   "source": [
    "Write a program that implements the standard version of K-means clustering and partitions the given data set into K clusters. Repeat the clustering procedure for different initializations of the prototypes and K = 2, 3, 4, 5, 6, 7, 8. Include the following steps:"
   ]
  },
  {
   "cell_type": "markdown",
   "metadata": {},
   "source": [
    "### Initialization –\n",
    "\n",
    "• Set the initial prototypes wq randomly around the data set mean\n",
    "\n",
    "• Set the maximum number of iterations tmax, e.g. 5\n",
    "\n",
    "\n",
    "### Optimization –\n",
    "\n",
    "Implement the k-means update (see lecture notes). Each iteration should contain the following two steps\n",
    "\n",
    "• assign all datapoints to their closest prototype\n",
    "\n",
    "• re-compute the new positions of the prototypes for this assignment\n",
    "\n",
    "\n",
    "### Visualization –\n",
    "\n",
    "(a) Visualize data points and prototypes for each iteration in a sequence of scatter plots.\n",
    "\n",
    "(b) Plot the error function E against the iteration number t\n",
    "\n",
    "(c) Create a plot (Voronoi-Tesselation) to show how the resulting solution assigns different regions of input space (e.g. new data points x 2 R2) to the different clusters."
   ]
  },
  {
   "cell_type": "code",
   "execution_count": 41,
   "metadata": {
    "collapsed": false
   },
   "outputs": [],
   "source": [
    "dat=np.loadtxt(\"cluster.dat\")"
   ]
  },
  {
   "cell_type": "code",
   "execution_count": 42,
   "metadata": {
    "collapsed": false
   },
   "outputs": [],
   "source": [
    "K = [2, 3, 4, 5, 6, 7, 8]\n",
    "t_max= 5"
   ]
  },
  {
   "cell_type": "code",
   "execution_count": 52,
   "metadata": {
    "collapsed": false
   },
   "outputs": [],
   "source": [
    "def stdKmean(dat,K,t_max):\n",
    "    n=len(dat[0])\n",
    "    M = []\n",
    "    W=[]\n",
    "    k_ite=0\n",
    "    for k in K:\n",
    "        # Initializaton for each k\n",
    "        w= np.random.randn(2,k)+np.mean(dat,1).reshape(2,1)\n",
    "        X2 = (dat.T**2).sum(1).reshape(n,1)*np.ones((n,k))\n",
    "        U2 = (w.T**2).sum(1).reshape(1,k) * np.ones([n,k])\n",
    "        D = X2 - 2*(dat.T.dot(w)) + U2\n",
    "        minidx= np.argmin(D,1)\n",
    "        m = np.zeros((n,k))\n",
    "        m[np.arange(n),minidx]=1\n",
    "        W += [w]\n",
    "        M += [m]\n",
    "        for t in range(t_max):\n",
    "            w = dat.dot(m)/m.sum(0)\n",
    "            X2 = (dat.T**2).sum(1).reshape(n,1)*np.ones((n,k))\n",
    "            U2 = (w.T**2).sum(1).reshape(1,k) * np.ones([n,k])\n",
    "            D = X2 - 2*(dat.T.dot(w)) + U2\n",
    "            minidx= np.argmin(D,1)\n",
    "            m = np.zeros((n,k))\n",
    "            m[np.arange(n),minidx]=1   \n",
    "            M[k_ite]= m\n",
    "            W[k_ite]= w\n",
    "        k_ite +=1\n",
    "    return M, W"
   ]
  },
  {
   "cell_type": "code",
   "execution_count": 53,
   "metadata": {
    "collapsed": true
   },
   "outputs": [],
   "source": [
    "def E(X,w,m):\n",
    "    n=len(K[0])\n",
    "    k = len(w[0])\n",
    "    X2 = (X.T**2).sum(1).reshape(n,1)*np.ones((n,k))\n",
    "    U2 = (w.T**2).sum(1).reshape(1,k) * np.ones([n,k])\n",
    "    D = X2 - 2*(X.T.dot(w)) + U2\n",
    "    return (D*m).sum()/(2*n)\n",
    "    "
   ]
  },
  {
   "cell_type": "code",
   "execution_count": 54,
   "metadata": {
    "collapsed": false
   },
   "outputs": [
    {
     "name": "stderr",
     "output_type": "stream",
     "text": [
      "/usr/local/lib/python3.5/dist-packages/ipykernel/__main__.py:18: RuntimeWarning: invalid value encountered in true_divide\n"
     ]
    }
   ],
   "source": [
    "#optimization \n",
    "M,W=stdKmean(dat,K,t_max)"
   ]
  },
  {
   "cell_type": "code",
   "execution_count": null,
   "metadata": {
    "collapsed": true
   },
   "outputs": [],
   "source": [
    "plt.figu\n",
    "for k in K:\n",
    "    plt.plot()"
   ]
  },
  {
   "cell_type": "code",
   "execution_count": 7,
   "metadata": {
    "collapsed": false
   },
   "outputs": [
    {
     "data": {
      "text/plain": [
       "array([[ 0.86208328,  0.64249455, -1.22716098,  1.3668585 , -1.5962294 ],\n",
       "       [ 0.71492158,  0.08128397,  1.4718968 , -1.2629766 ,  0.38980068],\n",
       "       [ 1.18698704, -1.89514606, -0.78827458,  0.36856575,  1.17577916],\n",
       "       [-0.93414087,  1.02206442, -0.14352597, -1.01765687, -0.87918478],\n",
       "       [ 1.79988556, -1.56765357, -0.6612484 , -1.26093493, -0.3573135 ]])"
      ]
     },
     "execution_count": 7,
     "metadata": {},
     "output_type": "execute_result"
    }
   ],
   "source": [
    "a=np.random.randn(5,5)\n",
    "a"
   ]
  },
  {
   "cell_type": "code",
   "execution_count": 9,
   "metadata": {
    "collapsed": false
   },
   "outputs": [
    {
     "data": {
      "text/plain": [
       "array([4, 3, 1, 3, 1])"
      ]
     },
     "execution_count": 9,
     "metadata": {},
     "output_type": "execute_result"
    }
   ],
   "source": [
    "b=np.argmin(a,1)\n",
    "b"
   ]
  },
  {
   "cell_type": "code",
   "execution_count": 13,
   "metadata": {
    "collapsed": false
   },
   "outputs": [],
   "source": [
    "c=np.zeros((5,5))\n",
    "c[np.arange(5),b]=1"
   ]
  },
  {
   "cell_type": "code",
   "execution_count": 19,
   "metadata": {
    "collapsed": false
   },
   "outputs": [
    {
     "data": {
      "text/plain": [
       "array([[ 0.5,  0.5,  0.5,  0.5,  0.5],\n",
       "       [ 0.5,  0.5,  0.5,  0.5,  0.5]])"
      ]
     },
     "execution_count": 19,
     "metadata": {},
     "output_type": "execute_result"
    }
   ],
   "source": [
    "np.ones((2,5))/(np.ones(5)*2)"
   ]
  },
  {
   "cell_type": "code",
   "execution_count": 20,
   "metadata": {
    "collapsed": true
   },
   "outputs": [],
   "source": [
    "mmm = []"
   ]
  },
  {
   "cell_type": "code",
   "execution_count": 27,
   "metadata": {
    "collapsed": false
   },
   "outputs": [],
   "source": [
    "mmm=mmm+[np.ones((2,2))]+[np.ones((4,4))]"
   ]
  },
  {
   "cell_type": "code",
   "execution_count": 34,
   "metadata": {
    "collapsed": false
   },
   "outputs": [],
   "source": [
    "mmm+= [np.zeros((6,6))]"
   ]
  },
  {
   "cell_type": "code",
   "execution_count": 36,
   "metadata": {
    "collapsed": false
   },
   "outputs": [],
   "source": [
    "mmm[0]=np.zeros((2,2))"
   ]
  },
  {
   "cell_type": "code",
   "execution_count": 37,
   "metadata": {
    "collapsed": false
   },
   "outputs": [
    {
     "data": {
      "text/plain": [
       "[array([[ 0.,  0.],\n",
       "        [ 0.,  0.]]), array([[ 1.,  1.,  1.,  1.],\n",
       "        [ 1.,  1.,  1.,  1.],\n",
       "        [ 1.,  1.,  1.,  1.],\n",
       "        [ 1.,  1.,  1.,  1.]]), array([[ 0.,  0.,  0.,  0.,  0.,  0.],\n",
       "        [ 0.,  0.,  0.,  0.,  0.,  0.],\n",
       "        [ 0.,  0.,  0.,  0.,  0.,  0.],\n",
       "        [ 0.,  0.,  0.,  0.,  0.,  0.],\n",
       "        [ 0.,  0.,  0.,  0.,  0.,  0.],\n",
       "        [ 0.,  0.,  0.,  0.,  0.,  0.]]), array([[ 0.,  0.,  0.,  0.,  0.,  0.],\n",
       "        [ 0.,  0.,  0.,  0.,  0.,  0.],\n",
       "        [ 0.,  0.,  0.,  0.,  0.,  0.],\n",
       "        [ 0.,  0.,  0.,  0.,  0.,  0.],\n",
       "        [ 0.,  0.,  0.,  0.,  0.,  0.],\n",
       "        [ 0.,  0.,  0.,  0.,  0.,  0.]])]"
      ]
     },
     "execution_count": 37,
     "metadata": {},
     "output_type": "execute_result"
    }
   ],
   "source": [
    "mmm"
   ]
  },
  {
   "cell_type": "code",
   "execution_count": null,
   "metadata": {
    "collapsed": true
   },
   "outputs": [],
   "source": []
  }
 ],
 "metadata": {
  "kernelspec": {
   "display_name": "Python 3",
   "language": "python",
   "name": "python3"
  },
  "language_info": {
   "codemirror_mode": {
    "name": "ipython",
    "version": 3
   },
   "file_extension": ".py",
   "mimetype": "text/x-python",
   "name": "python",
   "nbconvert_exporter": "python",
   "pygments_lexer": "ipython3",
   "version": "3.5.2"
  }
 },
 "nbformat": 4,
 "nbformat_minor": 2
}
