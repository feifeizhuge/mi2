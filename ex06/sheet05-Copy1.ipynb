{
 "cells": [
  {
   "cell_type": "markdown",
   "metadata": {},
   "source": [
    "## 5.1 Initialization"
   ]
  },
  {
   "cell_type": "code",
   "execution_count": 1,
   "metadata": {
    "collapsed": false
   },
   "outputs": [],
   "source": [
    "import numpy as np\n",
    "import numpy.testing as npt\n",
    "from scipy.linalg import expm\n",
    "import matplotlib.pyplot as plt\n",
    "import scipy.spatial, scipy.linalg\n",
    "from scipy.spatial.distance import pdist\n",
    "import scipy.sparse.linalg\n",
    "from scipy.linalg import eigh\n",
    "import zipfile,io\n",
    "import pandas as pd\n",
    "import zipfile\n",
    "import re\n",
    "%matplotlib inline"
   ]
  },
  {
   "cell_type": "markdown",
   "metadata": {},
   "source": [
    "(a) Load the sound files. Each of the N = 2 sources is sampled at at 8192 Hz and contains p = 18000 samples."
   ]
  },
  {
   "cell_type": "code",
   "execution_count": 2,
   "metadata": {
    "collapsed": false
   },
   "outputs": [],
   "source": [
    "unzip = zipfile.ZipFile(\"sounds.zip\", 'r')          \n",
    "fl = unzip.namelist()                     \n",
    "s1 = unzip.open(fl[0])\n",
    "s2 = unzip.open(fl[1])"
   ]
  },
  {
   "cell_type": "code",
   "execution_count": 3,
   "metadata": {
    "collapsed": false
   },
   "outputs": [],
   "source": [
    "dat1 = pd.read_table(s1,header=None,delim_whitespace=True)\n",
    "dat2 = pd.read_table(s2,header=None,delim_whitespace=True)"
   ]
  },
  {
   "cell_type": "code",
   "execution_count": 4,
   "metadata": {
    "collapsed": false
   },
   "outputs": [
    {
     "data": {
      "text/plain": [
       "array([[ -0.00000000e+00,   0.00000000e+00],\n",
       "       [  0.00000000e+00,  -1.58992990e-04],\n",
       "       [ -3.77485200e-05,  -3.87545410e-03],\n",
       "       ..., \n",
       "       [  4.35995410e-03,  -4.59092250e-03],\n",
       "       [ -2.78395330e-03,  -3.24941920e-03],\n",
       "       [  0.00000000e+00,  -0.00000000e+00]])"
      ]
     },
     "execution_count": 4,
     "metadata": {},
     "output_type": "execute_result"
    }
   ],
   "source": [
    "sig1 = np.array(dat1)\n",
    "sig2 = np.array(dat2)\n",
    "S= np.append(sig1 ,sig2,1)\n",
    "S"
   ]
  },
  {
   "cell_type": "markdown",
   "metadata": {},
   "source": [
    "(b) Create a random (& invertible) N ×N mixing matrix A and mix the sources: x(α) = As(α)"
   ]
  },
  {
   "cell_type": "code",
   "execution_count": 5,
   "metadata": {
    "collapsed": false
   },
   "outputs": [
    {
     "name": "stdout",
     "output_type": "stream",
     "text": [
      "[[ 0.63610688  0.46237165]\n",
      " [ 0.95995455  0.17711994]]\n"
     ]
    }
   ],
   "source": [
    "n = 2\n",
    "A = np.random.rand(n,n)\n",
    "print(A)\n",
    "detA =np.linalg.det(A)\n",
    "while(detA<0.001):\n",
    "    A = np.random.rand(n,n)\n",
    "    detA =np.linalg.det(A)"
   ]
  },
  {
   "cell_type": "markdown",
   "metadata": {},
   "source": [
    "(c) Remove the temporal structure by permuting the columns of the N × p matrix X randomly"
   ]
  },
  {
   "cell_type": "code",
   "execution_count": 6,
   "metadata": {
    "collapsed": false
   },
   "outputs": [],
   "source": [
    "X = np.dot(A,S.T)\n",
    "p = len(X[0])\n",
    "rmidx = np.random.choice(p,p,replace=False)\n",
    "XX=X[:,rmidx]"
   ]
  },
  {
   "cell_type": "markdown",
   "metadata": {},
   "source": [
    "(d) Calculate the correlations between the sources and the mixtures: "
   ]
  },
  {
   "cell_type": "code",
   "execution_count": 7,
   "metadata": {
    "collapsed": false
   },
   "outputs": [
    {
     "name": "stdout",
     "output_type": "stream",
     "text": [
      "[ 1.14515269  1.16849584]\n",
      "[ 0.99854594  0.99885435]\n",
      "[[ 1.14515269  1.14515269]\n",
      " [ 1.16849584  1.16849584]]\n",
      "[[ 0.99854594  0.99885435]\n",
      " [ 0.99854594  0.99885435]]\n",
      "[[ 0.00710748  0.00106098]\n",
      " [ 0.00873674 -0.0001241 ]]\n"
     ]
    },
    {
     "data": {
      "text/plain": [
       "array([[ 0.00621562,  0.00092756],\n",
       "       [ 0.0074878 , -0.00010633]])"
      ]
     },
     "execution_count": 7,
     "metadata": {},
     "output_type": "execute_result"
    }
   ],
   "source": [
    "meanx = np.mean(XX,1)\n",
    "means = np.mean(S,0)\n",
    "C = np.dot(XX-meanx.reshape(2,1),(S-means))/p\n",
    "sdx = np.std(XX, axis=1)\n",
    "sds = np.std(S, axis=0)\n",
    "print(sdx)\n",
    "print(sds)\n",
    "matsdx = (np.ones((2,1))*sdx).T\n",
    "matsds = (np.ones((2,1))*sds)\n",
    "print(matsdx)\n",
    "print(matsds)\n",
    "corr = C/matsdx/matsds \n",
    "print(C)\n",
    "corr"
   ]
  },
  {
   "cell_type": "markdown",
   "metadata": {
    "collapsed": true
   },
   "source": [
    "(e) Center the data to zero mean.\n"
   ]
  },
  {
   "cell_type": "code",
   "execution_count": 8,
   "metadata": {
    "collapsed": false
   },
   "outputs": [
    {
     "data": {
      "text/plain": [
       "(2, 18000)"
      ]
     },
     "execution_count": 8,
     "metadata": {},
     "output_type": "execute_result"
    }
   ],
   "source": [
    "XX = XX -np.mean(XX,1).reshape(n,1)\n",
    "XX.shape"
   ]
  },
  {
   "cell_type": "markdown",
   "metadata": {},
   "source": [
    "(f) Initialize the unmixing matrix W with random values."
   ]
  },
  {
   "cell_type": "code",
   "execution_count": 9,
   "metadata": {
    "collapsed": false
   },
   "outputs": [
    {
     "name": "stdout",
     "output_type": "stream",
     "text": [
      "[[ 0.58870338  0.42567703]\n",
      " [ 0.66824231  0.62259454]]\n"
     ]
    }
   ],
   "source": [
    "\n",
    "W= np.random.rand(n,n)\n",
    "detW =np.linalg.det(W)\n",
    "while(detW<0.001):\n",
    "    W = np.random.rand(n,n)\n",
    "    detW =np.linalg.det(W)\n",
    "print(W)"
   ]
  },
  {
   "cell_type": "markdown",
   "metadata": {},
   "source": [
    "## 5.2 Optimization\n",
    "Implement a matrix version of the ICA online learning algorithm. For f^use the logistic function(see lecture notes). This should reduce your code for this part to a few lines with one loop (over the samples). Implement two variants of this learning algorithm:"
   ]
  },
  {
   "cell_type": "markdown",
   "metadata": {
    "collapsed": true
   },
   "source": [
    "(a) Compute the update matrix ∆W using the “regular” gradient."
   ]
  },
  {
   "cell_type": "code",
   "execution_count": 10,
   "metadata": {
    "collapsed": true
   },
   "outputs": [],
   "source": [
    "def sigmoid(y):\n",
    "    return 1/(1+np.exp(-y))"
   ]
  },
  {
   "cell_type": "code",
   "execution_count": 11,
   "metadata": {
    "collapsed": false
   },
   "outputs": [],
   "source": [
    "def regGrad(XX, W, eps=0.0003):\n",
    "    dw = np.array(W)\n",
    "    ww = np.array(W)\n",
    "    #“regular” gradient online\n",
    "    for i in range(p):\n",
    "        if(np.linalg.det(ww)==0.):\n",
    "            ww = ww+np.eye(n)*0.0000000001\n",
    "        invW= np.linalg.solve(ww,np.eye(n))\n",
    "        y = np.dot(ww,XX[:,i].reshape(n,1))\n",
    "        sig = 1 -2*sigmoid(y)\n",
    "        dw =invW.T +np.dot(sig,XX[:,i].reshape(1,n))\n",
    "        ww=ww+eps*dw\n",
    "    return ww"
   ]
  },
  {
   "cell_type": "code",
   "execution_count": 12,
   "metadata": {
    "collapsed": false
   },
   "outputs": [],
   "source": [
    "ww = regGrad(XX, W, eps=0.05)\n",
    "eps1 = 0.005"
   ]
  },
  {
   "cell_type": "code",
   "execution_count": 13,
   "metadata": {
    "collapsed": false
   },
   "outputs": [
    {
     "data": {
      "text/plain": [
       "array([[ 6.15530761, -4.38737621],\n",
       "       [-3.70319916,  4.80612685]])"
      ]
     },
     "execution_count": 13,
     "metadata": {},
     "output_type": "execute_result"
    }
   ],
   "source": [
    "ww"
   ]
  },
  {
   "cell_type": "code",
   "execution_count": 14,
   "metadata": {
    "collapsed": false
   },
   "outputs": [
    {
     "data": {
      "text/plain": [
       "array([[ 2.63250682, -1.97601992],\n",
       "       [-1.96362242,  2.54089965]])"
      ]
     },
     "execution_count": 14,
     "metadata": {},
     "output_type": "execute_result"
    }
   ],
   "source": [
    "np.linalg.inv(A)"
   ]
  },
  {
   "cell_type": "markdown",
   "metadata": {},
   "source": [
    "(b) Compute the update matrix ∆W using the natural gradient as described in the lecture notes."
   ]
  },
  {
   "cell_type": "code",
   "execution_count": 15,
   "metadata": {
    "collapsed": false
   },
   "outputs": [],
   "source": [
    "def natGrad(XX, W, eps=0.001):\n",
    "    dw = np.array(W)\n",
    "    ww = np.array(W)\n",
    "    # natural gradient  \n",
    "    for i in range(p):\n",
    "        y = np.dot(ww,XX[:,i].reshape(n,1))\n",
    "        sig = 1 -2*sigmoid(y)\n",
    "        dw= ww + np.dot(np.dot(sig,XX[:,i].reshape(1,n)),np.dot(ww.T,ww))\n",
    "        ww=ww+eps*dw\n",
    "    return ww"
   ]
  },
  {
   "cell_type": "code",
   "execution_count": 16,
   "metadata": {
    "collapsed": false
   },
   "outputs": [],
   "source": [
    "ww = natGrad(X, W, eps=0.0005)\n",
    "eps2 = 0.005"
   ]
  },
  {
   "cell_type": "code",
   "execution_count": 17,
   "metadata": {
    "collapsed": false
   },
   "outputs": [
    {
     "data": {
      "text/plain": [
       "array([[ 7.01425201, -5.7790237 ],\n",
       "       [-6.71143421,  8.98393346]])"
      ]
     },
     "execution_count": 17,
     "metadata": {},
     "output_type": "execute_result"
    }
   ],
   "source": [
    "ww"
   ]
  },
  {
   "cell_type": "code",
   "execution_count": 18,
   "metadata": {
    "collapsed": false
   },
   "outputs": [
    {
     "data": {
      "text/plain": [
       "array([[ 2.63250682, -1.97601992],\n",
       "       [-1.96362242,  2.54089965]])"
      ]
     },
     "execution_count": 18,
     "metadata": {},
     "output_type": "execute_result"
    }
   ],
   "source": [
    "np.linalg.inv(A)"
   ]
  },
  {
   "cell_type": "markdown",
   "metadata": {},
   "source": [
    "(c) Choose a suitable learning rate \" and apply both versions to the data to unmix the sources.\n",
    "\n",
    "With our experiment by online lerning of regular gradient and natural gradient we found that best eps are:\n",
    "\n",
    "For regular: eps=0.005\n",
    "\n",
    "For natural: eps=0.0003"
   ]
  },
  {
   "cell_type": "markdown",
   "metadata": {},
   "source": [
    "## 5.3 Results"
   ]
  },
  {
   "cell_type": "code",
   "execution_count": 19,
   "metadata": {
    "collapsed": false
   },
   "outputs": [],
   "source": [
    "#A=np.array([[ 0.81690186,0.39716955],[ 0.45181874,0.32128403]])\n",
    "#W=np.array([[ 0.13900258,0.11300867],[ 0.72448501,0.71863573]])"
   ]
  },
  {
   "cell_type": "code",
   "execution_count": 20,
   "metadata": {
    "collapsed": false
   },
   "outputs": [],
   "source": [
    "from scipy.io.wavfile import write\n",
    "\n",
    "write('test0.wav', 8192, S[:,0]) # bird sound\n",
    "write('test1.wav', 8192, S[:,1]) # hallelujah \n",
    "\n",
    "write('x_permuted_centered0.wav', 8192, XX[0,:])\n",
    "write('x_permuted_centered1.wav', 8192, XX[1,:])"
   ]
  },
  {
   "cell_type": "code",
   "execution_count": 21,
   "metadata": {
    "collapsed": true
   },
   "outputs": [],
   "source": [
    "def computeCorrelation(x,s, label=\"X\"):\n",
    "    x_size = x.shape[0]\n",
    "    data = np.vstack((x,s))\n",
    "    corrs = np.corrcoef(data)\n",
    "    corrs_trimmed = corrs[:x_size, x_size:,]\n",
    "\n",
    "    return corrs_trimmed"
   ]
  },
  {
   "cell_type": "code",
   "execution_count": 22,
   "metadata": {
    "collapsed": false
   },
   "outputs": [],
   "source": [
    "def plotExperiment(x, w_init, original_s,  dataset):\n",
    "    total = x.shape[1]\n",
    "    x_range = np.array(range(total))\n",
    "    \n",
    "    plt.figure(figsize=(10,10))\n",
    "    \n",
    "    for i in range(x.shape[0]):\n",
    "        plt.subplot(5,2,i+1)\n",
    "        plt.plot(x_range, x[i,:].T)\n",
    "        plt.title('%s : Mixed signal %d' % (dataset, i+1) )\n",
    "        plt.xticks([])\n",
    "        plt.yticks([])\n",
    "        \n",
    "    w_reg= regGrad(XX, W, 0.002)\n",
    "    s_est_reg = np.dot(w_reg,x) \n",
    "    corr = computeCorrelation(    s_est_reg, original_s)\n",
    "    learning_algo = 'reg_grad'\n",
    "    for i in range(x.shape[0]):\n",
    "        plt.subplot(5,2,2 + i+1)\n",
    "        plt.plot(x_range, s_est_reg[i,:].T)\n",
    "        plt.title('%s : %s %d (corr %.4f)' % (learning_algo, 'De-mixed signal', i+1, corr[i,i]) )\n",
    "        plt.xticks([])\n",
    "        plt.yticks([])\n",
    "\n",
    "\n",
    "    w_nat= natGrad(XX, W, 0.002)\n",
    "    s_est = np.dot(w_nat,x) \n",
    "    corr = computeCorrelation(s_est, original_s)\n",
    "    learning_algo = 'nat_grad'\n",
    "    for i in range(x.shape[0]):\n",
    "        plt.subplot(5,2,4+ i+1)\n",
    "        plt.plot(x_range, s_est[i,:].T)\n",
    "        plt.title('%s : %s %d (corr %.4f)' % (learning_algo, 'De-mixed signal', i+1, corr[i,i]) )\n",
    "        plt.xticks([])\n",
    "        plt.yticks([])\n",
    "        \n",
    "    for i in range(x.shape[0]):\n",
    "        plt.subplot(5,2,6+ i+1)\n",
    "        plt.plot(x_range, original_s[i,:].T)\n",
    "        plt.title('%s %d' % ('Original signal', i+1) )\n",
    "        plt.xticks([])\n",
    "        plt.yticks([])\n",
    "\n",
    "\n"
   ]
  },
  {
   "cell_type": "code",
   "execution_count": 23,
   "metadata": {
    "collapsed": false
   },
   "outputs": [
    {
     "data": {
      "image/png": "[encoded data removed]",
      "text/plain": [
       "<matplotlib.figure.Figure at 0x7f5c161f0b70>"
      ]
     },
     "metadata": {},
     "output_type": "display_data"
    }
   ],
   "source": [
    "plotExperiment(X, W, S.T, dataset=\"Data\")"
   ]
  },
  {
   "cell_type": "code",
   "execution_count": null,
   "metadata": {
    "collapsed": true
   },
   "outputs": [],
   "source": []
  },
  {
   "cell_type": "code",
   "execution_count": null,
   "metadata": {
    "collapsed": true
   },
   "outputs": [],
   "source": []
  },
  {
   "cell_type": "code",
   "execution_count": null,
   "metadata": {
    "collapsed": true
   },
   "outputs": [],
   "source": []
  }
 ],
 "metadata": {
  "kernelspec": {
   "display_name": "Python 3",
   "language": "python",
   "name": "python3"
  },
  "language_info": {
   "codemirror_mode": {
    "name": "ipython",
    "version": 3
   },
   "file_extension": ".py",
   "mimetype": "text/x-python",
   "name": "python",
   "nbconvert_exporter": "python",
   "pygments_lexer": "ipython3",
   "version": "3.5.2"
  }
 },
 "nbformat": 4,
 "nbformat_minor": 2
}
