{
 "cells": [
  {
   "cell_type": "markdown",
   "metadata": {},
   "source": [
    "## 5.1 Initialization"
   ]
  },
  {
   "cell_type": "code",
   "execution_count": 68,
   "metadata": {
    "collapsed": true
   },
   "outputs": [],
   "source": [
    "import numpy as np\n",
    "import numpy.testing as npt\n",
    "from scipy.linalg import expm\n",
    "import matplotlib.pyplot as plt\n",
    "import scipy.spatial, scipy.linalg\n",
    "from scipy.spatial.distance import pdist\n",
    "import scipy.sparse.linalg\n",
    "from scipy.linalg import eigh\n",
    "import zipfile,io\n",
    "import pandas as pd\n",
    "import zipfile\n",
    "import re\n",
    "%matplotlib inline"
   ]
  },
  {
   "cell_type": "markdown",
   "metadata": {},
   "source": [
    "(a) Load the sound files. Each of the N = 2 sources is sampled at at 8192 Hz and contains p = 18000 samples."
   ]
  },
  {
   "cell_type": "code",
   "execution_count": 69,
   "metadata": {
    "collapsed": false
   },
   "outputs": [],
   "source": [
    "unzip = zipfile.ZipFile(\"sounds.zip\", 'r')          \n",
    "fl = unzip.namelist()                     \n",
    "s1 = unzip.open(fl[0])\n",
    "s2 = unzip.open(fl[1])"
   ]
  },
  {
   "cell_type": "code",
   "execution_count": 70,
   "metadata": {
    "collapsed": false
   },
   "outputs": [],
   "source": [
    "dat1 = pd.read_table(s1,header=None,delim_whitespace=True)\n",
    "dat2 = pd.read_table(s2,header=None,delim_whitespace=True)"
   ]
  },
  {
   "cell_type": "code",
   "execution_count": 71,
   "metadata": {
    "collapsed": false
   },
   "outputs": [
    {
     "data": {
      "text/plain": [
       "array([[ -0.00000000e+00,   0.00000000e+00],\n",
       "       [  0.00000000e+00,  -1.58992990e-04],\n",
       "       [ -3.77485200e-05,  -3.87545410e-03],\n",
       "       ..., \n",
       "       [  4.35995410e-03,  -4.59092250e-03],\n",
       "       [ -2.78395330e-03,  -3.24941920e-03],\n",
       "       [  0.00000000e+00,  -0.00000000e+00]])"
      ]
     },
     "execution_count": 71,
     "metadata": {},
     "output_type": "execute_result"
    }
   ],
   "source": [
    "sig1 = np.array(dat1)\n",
    "sig2 = np.array(dat2)\n",
    "S= np.append(sig1 ,sig2,1)\n",
    "S"
   ]
  },
  {
   "cell_type": "markdown",
   "metadata": {},
   "source": [
    "(b) Create a random (& invertible) N ×N mixing matrix A and mix the sources: x(α) = As(α)"
   ]
  },
  {
   "cell_type": "code",
   "execution_count": 72,
   "metadata": {
    "collapsed": false
   },
   "outputs": [
    {
     "name": "stdout",
     "output_type": "stream",
     "text": [
      "[[ 0.70465486  0.18268301]\n",
      " [ 0.54662364  0.98093829]]\n"
     ]
    }
   ],
   "source": [
    "n = 2\n",
    "A = np.random.rand(n,n)\n",
    "print(A)\n",
    "detA =np.linalg.det(A)\n",
    "while(detA<0.001):\n",
    "    A = np.random.rand(n,n)\n",
    "    detA =np.linalg.det(A)"
   ]
  },
  {
   "cell_type": "markdown",
   "metadata": {},
   "source": [
    "(c) Remove the temporal structure by permuting the columns of the N × p matrix X randomly"
   ]
  },
  {
   "cell_type": "code",
   "execution_count": 73,
   "metadata": {
    "collapsed": false
   },
   "outputs": [],
   "source": [
    "X = np.dot(A,S.T)\n",
    "p = len(X[0])\n",
    "rmidx = np.random.choice(p,p,replace=False)\n",
    "XX=X[:,rmidx]"
   ]
  },
  {
   "cell_type": "markdown",
   "metadata": {},
   "source": [
    "(d) Calculate the correlations between the sources and the mixtures: "
   ]
  },
  {
   "cell_type": "code",
   "execution_count": 74,
   "metadata": {
    "collapsed": false
   },
   "outputs": [
    {
     "name": "stdout",
     "output_type": "stream",
     "text": [
      "[ 0.72712849  1.12219145]\n",
      "[ 0.99854594  0.99885435]\n",
      "[[ 0.72712849  0.72712849]\n",
      " [ 1.12219145  1.12219145]]\n",
      "[[ 0.99854594  0.99885435]\n",
      " [ 0.99854594  0.99885435]]\n",
      "[[-0.00374007  0.00054235]\n",
      " [-0.01060225 -0.00450818]]\n"
     ]
    },
    {
     "data": {
      "text/plain": [
       "array([[-0.00515111,  0.00074674],\n",
       "       [-0.00946157, -0.00402191]])"
      ]
     },
     "execution_count": 74,
     "metadata": {},
     "output_type": "execute_result"
    }
   ],
   "source": [
    "meanx = np.mean(XX,1)\n",
    "means = np.mean(S,0)\n",
    "C = np.dot(XX-meanx.reshape(2,1),(S-means))/p\n",
    "sdx = np.std(XX, axis=1)\n",
    "sds = np.std(S, axis=0)\n",
    "print(sdx)\n",
    "print(sds)\n",
    "matsdx = (np.ones((2,1))*sdx).T\n",
    "matsds = (np.ones((2,1))*sds)\n",
    "print(matsdx)\n",
    "print(matsds)\n",
    "corr = C/matsdx/matsds \n",
    "print(C)\n",
    "corr"
   ]
  },
  {
   "cell_type": "markdown",
   "metadata": {
    "collapsed": true
   },
   "source": [
    "(e) Center the data to zero mean.\n"
   ]
  },
  {
   "cell_type": "code",
   "execution_count": 75,
   "metadata": {
    "collapsed": false
   },
   "outputs": [
    {
     "data": {
      "text/plain": [
       "(2, 18000)"
      ]
     },
     "execution_count": 75,
     "metadata": {},
     "output_type": "execute_result"
    }
   ],
   "source": [
    "SS = S -np.mean(S,0)\n",
    "XX.shape"
   ]
  },
  {
   "cell_type": "markdown",
   "metadata": {},
   "source": [
    "(f) Initialize the unmixing matrix W with random values."
   ]
  },
  {
   "cell_type": "code",
   "execution_count": 117,
   "metadata": {
    "collapsed": false
   },
   "outputs": [
    {
     "name": "stdout",
     "output_type": "stream",
     "text": [
      "[[ 0.47726395  0.59458109]\n",
      " [ 0.4096291   0.86904217]]\n"
     ]
    }
   ],
   "source": [
    "W= np.random.rand(n,n)\n",
    "detW =np.linalg.det(W)\n",
    "while(detW<0.001):\n",
    "    W = np.random.rand(n,n)\n",
    "    detW =np.linalg.det(W)\n",
    "print(W)"
   ]
  },
  {
   "cell_type": "markdown",
   "metadata": {},
   "source": [
    "## 5.2 Optimization\n",
    "Implement a matrix version of the ICA online learning algorithm. For f^use the logistic function(see lecture notes). This should reduce your code for this part to a few lines with one loop (over the samples). Implement two variants of this learning algorithm:"
   ]
  },
  {
   "cell_type": "markdown",
   "metadata": {
    "collapsed": true
   },
   "source": [
    "(a) Compute the update matrix ∆W using the “regular” gradient."
   ]
  },
  {
   "cell_type": "code",
   "execution_count": 118,
   "metadata": {
    "collapsed": true
   },
   "outputs": [],
   "source": [
    "def sigmoid(y):\n",
    "    return 1/(1+np.exp(-y))"
   ]
  },
  {
   "cell_type": "code",
   "execution_count": 131,
   "metadata": {
    "collapsed": true
   },
   "outputs": [],
   "source": [
    "dw = np.array(W)\n",
    "ddw = np.empty((n,n))\n",
    "eps=0.4\n",
    "#“regular” gradient batch\n",
    "for i in range(p):\n",
    "    invW= np.linalg.solve(W,np.eye(n))\n",
    "    y = np.dot(W,XX[:,i].reshape(n,1))\n",
    "    sig = 1 -2*sigmoid(y)\n",
    "    dw =(invW +sig*XX[:,i].reshape(n,1)*np.ones((1,n))).T\n",
    "    ddw=ddw+dw\n",
    "dw=eps*ddw/p"
   ]
  },
  {
   "cell_type": "code",
   "execution_count": 132,
   "metadata": {
    "collapsed": false
   },
   "outputs": [
    {
     "data": {
      "text/plain": [
       "array([[ 1.93847385, -1.15269632],\n",
       "       [-1.48111122,  0.91942584]])"
      ]
     },
     "execution_count": 132,
     "metadata": {},
     "output_type": "execute_result"
    }
   ],
   "source": [
    "dw"
   ]
  },
  {
   "cell_type": "code",
   "execution_count": 133,
   "metadata": {
    "collapsed": false
   },
   "outputs": [
    {
     "data": {
      "text/plain": [
       "array([[ 2.4157378 , -0.55811523],\n",
       "       [-1.07148213,  1.78846801]])"
      ]
     },
     "execution_count": 133,
     "metadata": {},
     "output_type": "execute_result"
    }
   ],
   "source": [
    "W +dw"
   ]
  },
  {
   "cell_type": "code",
   "execution_count": 134,
   "metadata": {
    "collapsed": false
   },
   "outputs": [
    {
     "data": {
      "text/plain": [
       "array([[ 1.65877219, -0.30891801],\n",
       "       [-0.92434366,  1.19157535]])"
      ]
     },
     "execution_count": 134,
     "metadata": {},
     "output_type": "execute_result"
    }
   ],
   "source": [
    "np.linalg.inv(A)"
   ]
  },
  {
   "cell_type": "code",
   "execution_count": 138,
   "metadata": {
    "collapsed": true
   },
   "outputs": [],
   "source": [
    "dw = np.array(W)\n",
    "ww = np.array(W)\n",
    "ddw = np.empty((n,n))\n",
    "eps=0.0001\n",
    "#“regular” gradient online\n",
    "for i in range(p):\n",
    "    invW= np.linalg.solve(ww,np.eye(n))\n",
    "    y = np.dot(ww,XX[:,i].reshape(n,1))\n",
    "    sig = 1 -2*sigmoid(y)\n",
    "    dw =(invW +sig*XX[:,i].reshape(n,1)*np.ones((1,n))).T\n",
    "    ww=ww+eps*dw"
   ]
  },
  {
   "cell_type": "code",
   "execution_count": 139,
   "metadata": {
    "collapsed": false
   },
   "outputs": [
    {
     "data": {
      "text/plain": [
       "array([[ 1.69690105, -0.39050374],\n",
       "       [-0.27172327,  1.45474326]])"
      ]
     },
     "execution_count": 139,
     "metadata": {},
     "output_type": "execute_result"
    }
   ],
   "source": [
    "ww"
   ]
  },
  {
   "cell_type": "code",
   "execution_count": 140,
   "metadata": {
    "collapsed": false
   },
   "outputs": [
    {
     "data": {
      "text/plain": [
       "array([[ 1.65877219, -0.30891801],\n",
       "       [-0.92434366,  1.19157535]])"
      ]
     },
     "execution_count": 140,
     "metadata": {},
     "output_type": "execute_result"
    }
   ],
   "source": [
    "np.linalg.inv(A)"
   ]
  },
  {
   "cell_type": "markdown",
   "metadata": {},
   "source": [
    "(b) Compute the update matrix ∆W using the natural gradient as described in the lecture notes."
   ]
  },
  {
   "cell_type": "code",
   "execution_count": 221,
   "metadata": {
    "collapsed": false
   },
   "outputs": [],
   "source": [
    "dw = np.array(W)\n",
    "ww = np.array(W)\n",
    "eps=0.0001\n",
    "# natural gradient  \n",
    "for i in range(p):\n",
    "    y = np.dot(ww,XX[:,i].reshape(n,1))\n",
    "    sig = 1 -2*sigmoid(y)\n",
    "    sig=sig*np.ones((2,2))\n",
    "    wx= y.reshape(n,1,1)\n",
    "    dw = np.diag(ww.sum(0))+sig*(ww.reshape(n,1,n)*np.ones((n,n,1))*wx).sum(0)\n",
    "    ww=ww+eps*dw"
   ]
  },
  {
   "cell_type": "code",
   "execution_count": 222,
   "metadata": {
    "collapsed": false
   },
   "outputs": [
    {
     "data": {
      "text/plain": [
       "array([[ 1.88030179, -0.31134069],\n",
       "       [-0.24726632,  1.51353682]])"
      ]
     },
     "execution_count": 222,
     "metadata": {},
     "output_type": "execute_result"
    }
   ],
   "source": [
    "ww"
   ]
  },
  {
   "cell_type": "code",
   "execution_count": 223,
   "metadata": {
    "collapsed": false
   },
   "outputs": [
    {
     "data": {
      "text/plain": [
       "array([[ 0.92789956, -1.00368882],\n",
       "       [-1.01120154, -0.23700474]])"
      ]
     },
     "execution_count": 223,
     "metadata": {},
     "output_type": "execute_result"
    }
   ],
   "source": [
    "dw"
   ]
  },
  {
   "cell_type": "code",
   "execution_count": 224,
   "metadata": {
    "collapsed": false
   },
   "outputs": [
    {
     "data": {
      "text/plain": [
       "array([[ 1.65877219, -0.30891801],\n",
       "       [-0.92434366,  1.19157535]])"
      ]
     },
     "execution_count": 224,
     "metadata": {},
     "output_type": "execute_result"
    }
   ],
   "source": [
    "np.linalg.inv(A)"
   ]
  },
  {
   "cell_type": "markdown",
   "metadata": {},
   "source": [
    "(c) Choose a suitable learning rate \" and apply both versions to the data to unmix the sources.\n",
    "\n",
    "With our experiment by online lerning of regular gradient and natural gradient we found that best eps is\n",
    "\n",
    "eps = 0.0001"
   ]
  },
  {
   "cell_type": "markdown",
   "metadata": {},
   "source": [
    "## 5.3 Results"
   ]
  },
  {
   "cell_type": "code",
   "execution_count": null,
   "metadata": {
    "collapsed": true
   },
   "outputs": [],
   "source": []
  }
 ],
 "metadata": {
  "kernelspec": {
   "display_name": "Python 3",
   "language": "python",
   "name": "python3"
  },
  "language_info": {
   "codemirror_mode": {
    "name": "ipython",
    "version": 3
   },
   "file_extension": ".py",
   "mimetype": "text/x-python",
   "name": "python",
   "nbconvert_exporter": "python",
   "pygments_lexer": "ipython3",
   "version": "3.5.2"
  }
 },
 "nbformat": 4,
 "nbformat_minor": 2
}
